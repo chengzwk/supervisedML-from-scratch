{
 "cells": [
  {
   "cell_type": "markdown",
   "id": "e4eb66bd-2578-45d7-9d01-67366622985f",
   "metadata": {},
   "source": [
    "# Gradient Descent for Logistic Regression\n",
    "In this notebook, we'll implement gradient descent algorithm for logitstic regression.\n",
    "The training data and the structure of the functions are based on the course lab."
   ]
  },
  {
   "cell_type": "markdown",
   "id": "935d3d24-19af-435d-8781-f7b0eda20756",
   "metadata": {},
   "source": [
    "## Tools"
   ]
  },
  {
   "cell_type": "code",
   "execution_count": 23,
   "id": "5dda3fda-74ca-4909-b9ad-7baba6a8d8c8",
   "metadata": {},
   "outputs": [],
   "source": [
    "import numpy as np\n",
    "import matplotlib.pyplot as plt"
   ]
  },
  {
   "cell_type": "markdown",
   "id": "30ac82c4-18ba-4601-8466-9b8dd73818a2",
   "metadata": {},
   "source": [
    "## Dataset"
   ]
  },
  {
   "cell_type": "code",
   "execution_count": 24,
   "id": "1b8d1f1d-f9e9-4b5f-8cbb-0c8e5f12f143",
   "metadata": {},
   "outputs": [],
   "source": [
    "X_train = np.array([[0.5, 1.5], [1,1], [1.5, 0.5], [3, 0.5], [2, 2], [1, 2.5]])\n",
    "y_train = np.array([0, 0, 0, 1, 1, 1])"
   ]
  },
  {
   "cell_type": "code",
   "execution_count": 36,
   "id": "a4bcca65-c983-43d9-8b8e-2c697cf73f72",
   "metadata": {},
   "outputs": [
    {
     "data": {
      "image/png": "[encoded data removed]",
      "text/plain": [
       "<Figure size 800x600 with 1 Axes>"
      ]
     },
     "metadata": {},
     "output_type": "display_data"
    }
   ],
   "source": [
    "# Separate points by class\n",
    "class_0 = X_train[y_train == 0]\n",
    "class_1 = X_train[y_train == 1]\n",
    "\n",
    "# Plot\n",
    "plt.figure(figsize=(8, 6))\n",
    "plt.scatter(class_0[:, 0], class_0[:, 1], color='blue', marker='o', label='y = 0')\n",
    "plt.scatter(class_1[:, 0], class_1[:, 1], color='red', marker='x', label='y = 1')\n",
    "\n",
    "# Labels and legend\n",
    "plt.xlabel('X_0')\n",
    "plt.ylabel('X_1')\n",
    "plt.legend()\n",
    "plt.show()"
   ]
  },
  {
   "cell_type": "markdown",
   "id": "5dfe6ea4-93c2-4110-af6a-217a484f9b04",
   "metadata": {},
   "source": [
    "## Logistic Gradient Descent\n",
    "\n",
    "* For a logistic regression model\n",
    "$$\n",
    "\\begin{align}\n",
    "  f_{\\mathbf{w},b}(\\mathbf{x^{(i)}}) &= g(z^{(i)})\\tag{1} \\\\\n",
    "  z^{(i)} &= \\mathbf{w} \\cdot \\mathbf{x}^{(i)}+ b\\tag{2} \\\\\n",
    "  g(z^{(i)}) &= \\frac{1}{1+e^{-z^{(i)}}}\\tag{3} \n",
    "\\end{align}\n",
    "$$\n",
    "\n",
    "* For logistic regression, the cost function is of the form \n",
    "\n",
    "$$ J(\\mathbf{w},b) = \\frac{1}{m} \\sum_{i=0}^{m-1} \\left[ loss(f_{\\mathbf{w},b}(\\mathbf{x}^{(i)}), y^{(i)}) \\right] \\tag{4}$$\n",
    "\n",
    "where $loss(f_{\\mathbf{w},b}(\\mathbf{x}^{(i)}), y^{(i)})$ is the cost for a single data point, which is:\n",
    "\n",
    "$$loss(f_{\\mathbf{w},b}(\\mathbf{x}^{(i)}), y^{(i)}) = -y^{(i)} \\log\\left(f_{\\mathbf{w},b}\\left( \\mathbf{x}^{(i)} \\right) \\right) - \\left( 1 - y^{(i)}\\right) \\log \\left( 1 - f_{\\mathbf{w},b}\\left( \\mathbf{x}^{(i)} \\right) \\right) \\tag{5}$$ \n",
    "\n",
    "The gradient descent algorithm utilizes the gradient calculation:\n",
    "$$\\begin{align*}\n",
    "&\\text{repeat until convergence:} \\; \\lbrace \\\\\n",
    "&  \\; \\; \\;w_j = w_j -  \\alpha \\frac{\\partial J(\\mathbf{w},b)}{\\partial w_j} \\tag{6}  \\; & \\text{for j := 0..n-1} \\\\ \n",
    "&  \\; \\; \\;  \\; \\;b = b -  \\alpha \\frac{\\partial J(\\mathbf{w},b)}{\\partial b} \\\\\n",
    "&\\rbrace\n",
    "\\end{align*}$$\n",
    "\n",
    "Where each iteration performs simultaneous updates on $w_j$ for all $j$, where\n",
    "$$\\begin{align*}\n",
    "\\frac{\\partial J(\\mathbf{w},b)}{\\partial w_j}  &= \\frac{1}{m} \\sum\\limits_{i = 0}^{m-1} (f_{\\mathbf{w},b}(\\mathbf{x}^{(i)}) - y^{(i)})x_{j}^{(i)} \\tag{7} \\\\\n",
    "\\frac{\\partial J(\\mathbf{w},b)}{\\partial b}  &= \\frac{1}{m} \\sum\\limits_{i = 0}^{m-1} (f_{\\mathbf{w},b}(\\mathbf{x}^{(i)}) - y^{(i)}) \\tag{8} \n",
    "\\end{align*}$$\n",
    "\n",
    "* m is the number of training examples in the data set      \n",
    "* $f_{\\mathbf{w},b}(x^{(i)})$ is the model's prediction, while $y^{(i)}$ is the target"
   ]
  },
  {
   "cell_type": "markdown",
   "id": "68d2a92b-d69a-46b4-8403-93e5e1e7d4bb",
   "metadata": {},
   "source": [
    "## Implement Gradient Descent\n",
    "\n",
    "We will implement gradient descent algorithm for logistic regression in a similar way as for linear regression, with the following three functions. \n",
    "- `compute_gradient_logistic` implementing equation (7) and (5) above\n",
    "- `compute_cost_logistic` implementing equation (4) above\n",
    "- `gradient_descent`, utilizing compute_gradient and compute_cost"
   ]
  },
  {
   "cell_type": "code",
   "execution_count": 25,
   "id": "e9caa89b-8798-4551-9848-f1a80ea47921",
   "metadata": {},
   "outputs": [],
   "source": [
    "def compute_cost_logistic(X, y, w, b):\n",
    "    \"\"\"\n",
    "    Computes cost\n",
    "\n",
    "    Args:\n",
    "      X (ndarray (m,n)): Data, m examples with n features\n",
    "      y (ndarray (m,)) : target values\n",
    "      w (ndarray (n,)) : model parameters\n",
    "      b (scalar)       : model parameter\n",
    "\n",
    "    Returns:\n",
    "      cost (scalar): cost\n",
    "    \"\"\"\n",
    "    z = np.dot(X, w) + b\n",
    "    fx = 1 / (1 + np.exp((-1) * z))\n",
    "    cost = (-1) * np.mean(y * np.log(fx) + (1 - y) * np.log((1 - fx)))\n",
    "    return cost"
   ]
  },
  {
   "cell_type": "markdown",
   "id": "936b55db-deac-4a6a-ab49-ede8ea526842",
   "metadata": {},
   "source": [
    "### Test the function"
   ]
  },
  {
   "cell_type": "code",
   "execution_count": 26,
   "id": "8849cec4-a40d-4407-bb80-e11e5813d03c",
   "metadata": {},
   "outputs": [
    {
     "name": "stdout",
     "output_type": "stream",
     "text": [
      "0.36686678640551745\n"
     ]
    }
   ],
   "source": [
    "w_tmp = np.array([1,1])\n",
    "b_tmp = -3\n",
    "print(compute_cost_logistic(X_train, y_train, w_tmp, b_tmp))"
   ]
  },
  {
   "cell_type": "markdown",
   "id": "f6b7354d-8cb7-49e2-8a12-c8f31b2c55a0",
   "metadata": {},
   "source": [
    "**Expected output**: 0.3668667864055175"
   ]
  },
  {
   "cell_type": "code",
   "execution_count": 27,
   "id": "d951e2ee-5d46-43cf-9554-202d0c4994e7",
   "metadata": {},
   "outputs": [],
   "source": [
    "def compute_gradient_logistic(X, y, w, b):\n",
    "    \"\"\"\n",
    "    Computes the gradient for logistic regression\n",
    "\n",
    "    Args:\n",
    "      X (ndarray (m,n): Data, m examples with n features\n",
    "      y (ndarray (m,)): target values\n",
    "      w (ndarray (n,)): model parameters\n",
    "      b (scalar)      : model parameter\n",
    "    Returns\n",
    "      dj_dw (ndarray (n,)): The gradient of the cost w.r.t. the parameters w.\n",
    "      dj_db (scalar)      : The gradient of the cost w.r.t. the parameter b.\n",
    "    \"\"\"\n",
    "    z = np.dot(X, w) + b\n",
    "    fx = 1 / (1 + np.exp((-1) * z))\n",
    "    dj_dw = np.mean((fx - y).reshape((-1, 1)) * X, axis=0)\n",
    "    dj_db = np.mean((fx - y))\n",
    "    return dj_dw, dj_db"
   ]
  },
  {
   "cell_type": "markdown",
   "id": "badaa6f0-ec34-4a60-8dba-2d179bf63688",
   "metadata": {},
   "source": [
    "Note that here we only needed to change the equation for $f(\\vec{x})$ from the same function for linear regression."
   ]
  },
  {
   "cell_type": "code",
   "execution_count": 28,
   "id": "de5ebbad-07e7-4627-9ab1-36876eaf5c35",
   "metadata": {},
   "outputs": [],
   "source": [
    "### Test the function"
   ]
  },
  {
   "cell_type": "code",
   "execution_count": 29,
   "id": "1531d17f-0ba0-4f39-a73c-68a550306185",
   "metadata": {},
   "outputs": [
    {
     "name": "stdout",
     "output_type": "stream",
     "text": [
      "dj_db: 0.49861806546328574\n",
      "dj_dw: [0.498333393278696, 0.49883942983996693]\n"
     ]
    }
   ],
   "source": [
    "X_tmp = np.array([[0.5, 1.5], [1,1], [1.5, 0.5], [3, 0.5], [2, 2], [1, 2.5]])\n",
    "y_tmp = np.array([0, 0, 0, 1, 1, 1])\n",
    "w_tmp = np.array([2.,3.])\n",
    "b_tmp = 1.\n",
    "dj_dw_tmp, dj_db_tmp = compute_gradient_logistic(X_tmp, y_tmp, w_tmp, b_tmp)\n",
    "print(f\"dj_db: {dj_db_tmp}\" )\n",
    "print(f\"dj_dw: {dj_dw_tmp.tolist()}\" )"
   ]
  },
  {
   "cell_type": "markdown",
   "id": "ff06711f-3178-41f4-9171-1b1a1d8f2303",
   "metadata": {},
   "source": [
    "**Expected output**\n",
    "``` \n",
    "dj_db: 0.49861806546328574\n",
    "dj_dw: [0.498333393278696, 0.49883942983996693]\n",
    "```"
   ]
  },
  {
   "cell_type": "code",
   "execution_count": 30,
   "id": "ab0f1759-4db8-4301-b627-4a155f34890b",
   "metadata": {},
   "outputs": [],
   "source": [
    "def gradient_descent(X, y, w_in, b_in, cost_function, gradient_function, alpha, num_iters):\n",
    "    \"\"\"\n",
    "    Performs batch gradient descent\n",
    "\n",
    "    Args:\n",
    "      X (ndarray (m,n)   : Data, m examples with n features\n",
    "      y (ndarray (m,))   : target values\n",
    "      w_in (ndarray (n,)): Initial values of model parameters\n",
    "      b_in (scalar)      : Initial values of model parameter\n",
    "      cost_function       : function to compute cost\n",
    "      gradient_function   : function to compute the gradient\n",
    "      alpha (float)      : Learning rate\n",
    "      num_iters (scalar) : number of iterations to run gradient descent\n",
    "\n",
    "    Returns:\n",
    "      w (ndarray (n,))   : Updated values of parameters\n",
    "      b (scalar)         : Updated value of parameter\n",
    "    \"\"\"\n",
    "    w, b = w_in, b_in\n",
    "    J_history = []\n",
    "    p_history = []\n",
    "\n",
    "    for i in range(num_iters):\n",
    "        dj_dw, dj_db = gradient_function(X, y, w, b)\n",
    "        w -= alpha * dj_dw\n",
    "        b -= alpha * dj_db\n",
    "        J_history.append(cost_function(X, y, w, b))\n",
    "        p_history.append([w, b])\n",
    "\n",
    "    return w, b, J_history, p_history"
   ]
  },
  {
   "cell_type": "markdown",
   "id": "5d0b52b6-c2ce-42cb-8fbc-57838a050b29",
   "metadata": {},
   "source": [
    "Note that here we can use exactly the same code as for linear regression."
   ]
  },
  {
   "cell_type": "markdown",
   "id": "173795f4-2ab9-4439-852a-4d6a9ed07aa7",
   "metadata": {},
   "source": [
    "## Run Gradient Descent\n",
    "Run gradient descent on our dataset."
   ]
  },
  {
   "cell_type": "code",
   "execution_count": 31,
   "id": "2342af24-e423-428e-a968-149dc99f6d26",
   "metadata": {},
   "outputs": [
    {
     "name": "stdout",
     "output_type": "stream",
     "text": [
      "\n",
      "updated parameters: w:[5.28123029 5.07815608], b:-14.222409982019839\n"
     ]
    }
   ],
   "source": [
    "w_tmp  = np.zeros_like(X_train[0])\n",
    "b_tmp  = 0.\n",
    "alph = 0.1\n",
    "iters = 10000\n",
    "\n",
    "w_out, b_out, J_hist, p_hist = gradient_descent(X_train, y_train, w_tmp, b_tmp, compute_cost_logistic, compute_gradient_logistic, alph, iters)\n",
    "print(f\"\\nupdated parameters: w:{w_out}, b:{b_out}\")"
   ]
  },
  {
   "cell_type": "markdown",
   "id": "2c87c69e-8a93-4d44-91d2-ac4d19416e29",
   "metadata": {},
   "source": [
    "**Expected output:**\n",
    "```\n",
    "updated parameters: w:[5.28 5.08], b:-14.222409982019837\n",
    "```"
   ]
  },
  {
   "cell_type": "markdown",
   "id": "bfdd456a-6afa-420a-96cb-fa3d5fac35e9",
   "metadata": {},
   "source": [
    "We can plot the learning curve:"
   ]
  },
  {
   "cell_type": "code",
   "execution_count": 34,
   "id": "1321a872-dfbe-41b9-af77-4d0b0357e514",
   "metadata": {},
   "outputs": [
    {
     "data": {
      "text/plain": [
       "Text(0.5, 1.0, 'Cost vs iteration')"
      ]
     },
     "execution_count": 34,
     "metadata": {},
     "output_type": "execute_result"
    },
    {
     "data": {
      "image/png": "[encoded data removed]",
      "text/plain": [
       "<Figure size 640x480 with 1 Axes>"
      ]
     },
     "metadata": {},
     "output_type": "display_data"
    }
   ],
   "source": [
    "plt.plot(J_hist)\n",
    "plt.xlabel(\"Iterations\")\n",
    "plt.ylabel(\"Cost\")\n",
    "plt.title(\"Cost vs iteration\")"
   ]
  },
  {
   "cell_type": "code",
   "execution_count": 39,
   "id": "7b8bf710-2677-485a-a3a5-54ca9bfdf61b",
   "metadata": {},
   "outputs": [
    {
     "data": {
      "image/png": "[encoded data removed]",
      "text/plain": [
       "<Figure size 800x600 with 1 Axes>"
      ]
     },
     "metadata": {},
     "output_type": "display_data"
    }
   ],
   "source": [
    "# Separate points by class\n",
    "class_0 = X_train[y_train == 0]\n",
    "class_1 = X_train[y_train == 1]\n",
    "\n",
    "# Plot\n",
    "plt.figure(figsize=(8, 6))\n",
    "plt.scatter(class_0[:, 0], class_0[:, 1], color='blue', marker='o', label='y = 0')\n",
    "plt.scatter(class_1[:, 0], class_1[:, 1], color='red', marker='x', label='y = 1')\n",
    "\n",
    "# Labels and legend\n",
    "plt.xlabel('X_0')\n",
    "plt.ylabel('X_1')\n",
    "plt.legend()\n",
    "\n",
    "# Plot the decision boundary\n",
    "x0 = -b_out/w_out[0]\n",
    "x1 = -b_out/w_out[1]\n",
    "plt.plot([0,x0],[x1,0], c='green', lw=1)\n",
    "plt.show()"
   ]
  },
  {
   "cell_type": "code",
   "execution_count": null,
   "id": "07fc9c4f-6c77-4587-be28-3ce4fbe3fe4f",
   "metadata": {},
   "outputs": [],
   "source": []
  }
 ],
 "metadata": {
  "kernelspec": {
   "display_name": "Python 3 (ipykernel)",
   "language": "python",
   "name": "python3"
  },
  "language_info": {
   "codemirror_mode": {
    "name": "ipython",
    "version": 3
   },
   "file_extension": ".py",
   "mimetype": "text/x-python",
   "name": "python",
   "nbconvert_exporter": "python",
   "pygments_lexer": "ipython3",
   "version": "3.9.19"
  }
 },
 "nbformat": 4,
 "nbformat_minor": 5
}
